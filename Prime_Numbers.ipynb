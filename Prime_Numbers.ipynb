{
 "cells": [
  {
   "cell_type": "code",
   "execution_count": 3,
   "metadata": {},
   "outputs": [],
   "source": [
    "# prime numbers\n",
    "# Returns 0 if not prime\n",
    "#Return 1 if number is prime \n",
    "import math\n",
    "\n",
    "def prime(N):\n",
    "    end = int(math.sqrt(N))\n",
    "    #print(end) \n",
    "    if N == 1:\n",
    "        return 0\n",
    "    elif N == 2 or N==3:\n",
    "        return 1\n",
    "    else:    \n",
    "        for i in range(2,end):\n",
    "            #print(i)\n",
    "            if N%i == 0:\n",
    "                #print(i)\n",
    "                return 0\n",
    "        else:\n",
    "            return 1\n",
    "        "
   ]
  },
  {
   "cell_type": "code",
   "execution_count": 4,
   "metadata": {},
   "outputs": [
    {
     "data": {
      "text/plain": [
       "0"
      ]
     },
     "execution_count": 4,
     "metadata": {},
     "output_type": "execute_result"
    }
   ],
   "source": [
    "prime(84923)"
   ]
  }
 ],
 "metadata": {
  "kernelspec": {
   "display_name": "Python 3",
   "language": "python",
   "name": "python3"
  },
  "language_info": {
   "codemirror_mode": {
    "name": "ipython",
    "version": 3
   },
   "file_extension": ".py",
   "mimetype": "text/x-python",
   "name": "python",
   "nbconvert_exporter": "python",
   "pygments_lexer": "ipython3",
   "version": "3.7.4"
  }
 },
 "nbformat": 4,
 "nbformat_minor": 2
}
