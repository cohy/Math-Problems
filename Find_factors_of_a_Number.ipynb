{
 "cells": [
  {
   "cell_type": "code",
   "execution_count": 1,
   "metadata": {},
   "outputs": [],
   "source": [
    "#Algo to solve factorization problem\n",
    "#Input - given number  \n",
    "#output - list of factors\n",
    "\n",
    "import math\n",
    "def factorization(N):\n",
    "    A = [1]\n",
    "    B = []\n",
    "    end = int(math.sqrt(N))\n",
    "    #print(end)\n",
    "    for i in range(2,end+1):\n",
    "        if N%i == 0:\n",
    "            A.append(i)\n",
    "            if i < end:\n",
    "                B.append(N//i)\n",
    "            else:\n",
    "                B.append(i)\n",
    "    B.reverse()\n",
    "    A = A + B\n",
    "    A.append(N)\n",
    "    \n",
    "    return A\n",
    "\n",
    "            \n",
    "    "
   ]
  },
  {
   "cell_type": "code",
   "execution_count": 3,
   "metadata": {},
   "outputs": [
    {
     "data": {
      "text/plain": [
       "[1, 199, 199, 39601]"
      ]
     },
     "execution_count": 3,
     "metadata": {},
     "output_type": "execute_result"
    }
   ],
   "source": [
    "factorization(39601)"
   ]
  },
  {
   "cell_type": "code",
   "execution_count": null,
   "metadata": {},
   "outputs": [],
   "source": [
    "1 2 3 4 6 8 9 12 16 18 24 27 32 36 48 54 64 72 81 96 108 128 144 162 192 216 256 288 288 324 384 432 512 576 648 768 864 1024 1152 1296 1536 1728 2304 2592 3072 3456 4608 5184 6912 9216 10368 13824 20736 27648 41472 82944 \n",
    "1 2 3 4 6 8 9 12 16 18 24 27 32 36 48 54 64 72 81 96 108 128 144 162 192 216 256 288 324 384 432 512 576 648 768 864 1024 1152 1296 1536 1728 2304 2592 3072 3456 4608 5184 6912 9216 10368 13824 20736 27648 41472 82944"
   ]
  }
 ],
 "metadata": {
  "kernelspec": {
   "display_name": "Python 3",
   "language": "python",
   "name": "python3"
  },
  "language_info": {
   "codemirror_mode": {
    "name": "ipython",
    "version": 3
   },
   "file_extension": ".py",
   "mimetype": "text/x-python",
   "name": "python",
   "nbconvert_exporter": "python",
   "pygments_lexer": "ipython3",
   "version": "3.7.4"
  }
 },
 "nbformat": 4,
 "nbformat_minor": 2
}
