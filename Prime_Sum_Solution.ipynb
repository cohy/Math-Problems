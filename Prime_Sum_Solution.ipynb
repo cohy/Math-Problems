{
 "cells": [
  {
   "cell_type": "code",
   "execution_count": 72,
   "metadata": {},
   "outputs": [],
   "source": [
    "#Prime Sum\n",
    "#Expressing any given number as sum of prime numbers\n",
    "'''If [a, b] is one solution with a <= b,\n",
    "and [c,d] is another solution with c <= d, then\n",
    "\n",
    "[a, b] < [c, d] \n",
    "\n",
    "If a < c OR a==c AND b < d. \n",
    "'''\n",
    "\n",
    "import math\n",
    "def primesum(A):\n",
    "        a = 0\n",
    "        b = 0\n",
    "        ret = []\n",
    "        for i in range(2,A):\n",
    "            end = int(math.sqrt(i))\n",
    "            for j in range(2,end+1):\n",
    "                if i%j == 0:\n",
    "                    break\n",
    "            else: \n",
    "                a = i \n",
    "                b = A - a\n",
    "                #print(a,b)\n",
    "                end2 = int(math.sqrt(b)) + 1\n",
    "                if end2 > 1:\n",
    "                    for k in range(2,end2):\n",
    "                        if b%k == 0:\n",
    "                            break\n",
    "                    else:\n",
    "                        return [a,b]\n",
    "        return"
   ]
  },
  {
   "cell_type": "code",
   "execution_count": 73,
   "metadata": {},
   "outputs": [
    {
     "data": {
      "text/plain": [
       "[3, 181]"
      ]
     },
     "execution_count": 73,
     "metadata": {},
     "output_type": "execute_result"
    }
   ],
   "source": [
    "primesum(184)"
   ]
  }
 ],
 "metadata": {
  "kernelspec": {
   "display_name": "Python 3",
   "language": "python",
   "name": "python3"
  },
  "language_info": {
   "codemirror_mode": {
    "name": "ipython",
    "version": 3
   },
   "file_extension": ".py",
   "mimetype": "text/x-python",
   "name": "python",
   "nbconvert_exporter": "python",
   "pygments_lexer": "ipython3",
   "version": "3.7.4"
  }
 },
 "nbformat": 4,
 "nbformat_minor": 2
}
