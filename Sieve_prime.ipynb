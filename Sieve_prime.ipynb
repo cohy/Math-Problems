{
 "cells": [
  {
   "cell_type": "markdown",
   "metadata": {},
   "source": [
    "#Program gives a list of Prime till the given number in sorted order\n",
    "\n",
    "#for for N = 10 , \n",
    "#Output will be - [2,3,5,7]"
   ]
  },
  {
   "cell_type": "code",
   "execution_count": 4,
   "metadata": {},
   "outputs": [],
   "source": [
    "import math\n",
    "def sieve( A):\n",
    "        \n",
    "        my_list = []\n",
    "        if A == 1:\n",
    "            return my_list\n",
    "        elif A == 2 :\n",
    "            my_list.append(2)\n",
    "        elif A == 3:\n",
    "            my_list = [2,3]\n",
    "        else:\n",
    "            my_list = [2,3]\n",
    "            for i in range(3,A+1):\n",
    "                end = int(math.sqrt(i))\n",
    "                if end >= 2:\n",
    "                    for j in range(2,end+1):\n",
    "                        if i%j == 0:\n",
    "                            break\n",
    "                    \n",
    "                    else:\n",
    "                        my_list.append(i)\n",
    "                \n",
    "        return my_list"
   ]
  },
  {
   "cell_type": "code",
   "execution_count": 5,
   "metadata": {},
   "outputs": [
    {
     "data": {
      "text/plain": [
       "[2, 3, 5, 7, 11, 13, 17, 19, 23]"
      ]
     },
     "execution_count": 5,
     "metadata": {},
     "output_type": "execute_result"
    }
   ],
   "source": [
    "sieve(25)"
   ]
  }
 ],
 "metadata": {
  "kernelspec": {
   "display_name": "Python 3",
   "language": "python",
   "name": "python3"
  },
  "language_info": {
   "codemirror_mode": {
    "name": "ipython",
    "version": 3
   },
   "file_extension": ".py",
   "mimetype": "text/x-python",
   "name": "python",
   "nbconvert_exporter": "python",
   "pygments_lexer": "ipython3",
   "version": "3.7.4"
  }
 },
 "nbformat": 4,
 "nbformat_minor": 2
}
